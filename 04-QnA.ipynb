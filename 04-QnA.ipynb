{
 "cells": [
  {
   "cell_type": "markdown",
   "metadata": {},
   "source": [
    "# LangChain: Q&A over Documents\n",
    "\n",
    "An example might be a tool that would allow you to query a product catalog for items of interest."
   ]
  },
  {
   "cell_type": "code",
   "execution_count": 10,
   "metadata": {},
   "outputs": [],
   "source": [
    "import os\n",
    "\n",
    "from dotenv import load_dotenv, find_dotenv\n",
    "_ = load_dotenv(find_dotenv()) # read local .env file"
   ]
  },
  {
   "cell_type": "code",
   "execution_count": 2,
   "metadata": {},
   "outputs": [],
   "source": [
    "llm_model = \"deepseek-ai/DeepSeek-V3\""
   ]
  },
  {
   "cell_type": "code",
   "execution_count": null,
   "metadata": {},
   "outputs": [],
   "source": [
    "from langchain.chains import RetrievalQA\n",
    "from langchain_openai.chat_models import ChatOpenAI\n",
    "from langchain.document_loaders import CSVLoader\n",
    "from langchain.vectorstores import DocArrayInMemorySearch\n",
    "from IPython.display import display, Markdown\n",
    "from langchain_openai import OpenAI"
   ]
  },
  {
   "cell_type": "code",
   "execution_count": null,
   "metadata": {},
   "outputs": [],
   "source": [
    "file = 'OutdoorClothingCatalog_1000.csv'\n",
    "loader = CSVLoader(\n",
    "    file_path=file,\n",
    "    encoding=\"utf-8\"\n",
    ")"
   ]
  },
  {
   "cell_type": "code",
   "execution_count": 18,
   "metadata": {},
   "outputs": [],
   "source": [
    "from langchain.indexes import VectorstoreIndexCreator"
   ]
  },
  {
   "cell_type": "code",
   "execution_count": 19,
   "metadata": {},
   "outputs": [
    {
     "data": {
      "text/plain": [
       "'https://hf-mirror.com'"
      ]
     },
     "execution_count": 19,
     "metadata": {},
     "output_type": "execute_result"
    }
   ],
   "source": [
    "os.environ[\"HF_ENDPOINT\"]"
   ]
  },
  {
   "cell_type": "code",
   "execution_count": 20,
   "metadata": {},
   "outputs": [
    {
     "name": "stderr",
     "output_type": "stream",
     "text": [
      "e:\\code\\LangChain-for-LLM-Application-Development\\venv\\Lib\\site-packages\\pydantic\\_migration.py:283: UserWarning: `pydantic.error_wrappers:ValidationError` has been moved to `pydantic:ValidationError`.\n",
      "  warnings.warn(f'`{import_path}` has been moved to `{new_location}`.')\n"
     ]
    }
   ],
   "source": [
    "from langchain_huggingface import HuggingFaceEmbeddings\n",
    "\n",
    "# 初始化 Hugging Face 嵌入模型\n",
    "embedding = HuggingFaceEmbeddings()\n",
    "\n",
    "index = VectorstoreIndexCreator(\n",
    "    vectorstore_cls=DocArrayInMemorySearch,\n",
    "    embedding=embedding\n",
    ").from_loaders([loader])"
   ]
  },
  {
   "cell_type": "code",
   "execution_count": 21,
   "metadata": {},
   "outputs": [
    {
     "data": {
      "text/plain": [
       "VectorStoreIndexWrapper(vectorstore=<langchain_community.vectorstores.docarray.in_memory.DocArrayInMemorySearch object at 0x0000000050D863C0>)"
      ]
     },
     "execution_count": 21,
     "metadata": {},
     "output_type": "execute_result"
    }
   ],
   "source": [
    "index"
   ]
  },
  {
   "cell_type": "code",
   "execution_count": 22,
   "metadata": {},
   "outputs": [],
   "source": [
    "query =\"Please list all your shirts with sun protection \\\n",
    "in a table in markdown and summarize each one.\""
   ]
  },
  {
   "cell_type": "code",
   "execution_count": 27,
   "metadata": {},
   "outputs": [],
   "source": [
    "llm_replacement_model = OpenAI(temperature=0, model=llm_model)"
   ]
  },
  {
   "cell_type": "code",
   "execution_count": 28,
   "metadata": {},
   "outputs": [],
   "source": [
    "response = index.query(query, llm=llm_replacement_model)"
   ]
  },
  {
   "cell_type": "code",
   "execution_count": 29,
   "metadata": {},
   "outputs": [
    {
     "data": {
      "text/markdown": [
       " Here is a table summarizing all the shirts with sun protection:\n",
       "\n",
       "| Name                        | Gender | Sleeve Type | Fabric Composition | Sun Protection | Care Instructions | Key Features                                                                 |\n",
       "|-----------------------------|--------|-------------|---------------------|----------------|-------------------|------------------------------------------------------------------------------|\n",
       "| Women's Tropical Tee, Sleeveless | Women  | Sleeveless  | 71% nylon, 29% polyester (shell); 100% polyester (cape lining) | UPF 50+        | Machine wash and dry | Slightly fitted, wrinkle resistant, low-profile pockets, front and back cape venting, two front pockets, tool tabs, eyewear loop |\n",
       "| Sun Shield Shirt by         | Unspecified | Unspecified | 78% nylon, 22% Lycra Xtra Life fiber | UPF 50+        | Handwash, line dry | Moisture-wicking, abrasion resistant, fits over swimsuit, recommended by The Skin Cancer Foundation |\n",
       "| Men's Plaid Tropic Shirt, Short-Sleeve | Men    | Short-Sleeve | 52% polyester, 48% nylon | UPF 50+        | Machine wash and dry | Wrinkle-free, quick"
      ],
      "text/plain": [
       "<IPython.core.display.Markdown object>"
      ]
     },
     "metadata": {},
     "output_type": "display_data"
    }
   ],
   "source": [
    "display(Markdown(response))"
   ]
  },
  {
   "cell_type": "markdown",
   "metadata": {},
   "source": [
    "## Step By Step"
   ]
  },
  {
   "cell_type": "code",
   "execution_count": 30,
   "metadata": {},
   "outputs": [],
   "source": [
    "from langchain.document_loaders import CSVLoader\n",
    "loader = CSVLoader(\n",
    "    file_path=file,\n",
    "    encoding=\"utf-8\"\n",
    ")"
   ]
  },
  {
   "cell_type": "code",
   "execution_count": 31,
   "metadata": {},
   "outputs": [],
   "source": [
    "docs = loader.load()"
   ]
  },
  {
   "cell_type": "code",
   "execution_count": 32,
   "metadata": {},
   "outputs": [
    {
     "data": {
      "text/plain": [
       "Document(metadata={'source': 'OutdoorClothingCatalog_1000.csv', 'row': 0}, page_content=\": 0\\nname: Women's Campside Oxfords\\ndescription: This ultracomfortable lace-to-toe Oxford boasts a super-soft canvas, thick cushioning, and quality construction for a broken-in feel from the first time you put them on. \\n\\nSize & Fit: Order regular shoe size. For half sizes not offered, order up to next whole size. \\n\\nSpecs: Approx. weight: 1 lb.1 oz. per pair. \\n\\nConstruction: Soft canvas material for a broken-in feel and look. Comfortable EVA innersole with Cleansport NXT® antimicrobial odor control. Vintage hunt, fish and camping motif on innersole. Moderate arch contour of innersole. EVA foam midsole for cushioning and support. Chain-tread-inspired molded rubber outsole with modified chain-tread pattern. Imported. \\n\\nQuestions? Please contact us for any inquiries.\")"
      ]
     },
     "execution_count": 32,
     "metadata": {},
     "output_type": "execute_result"
    }
   ],
   "source": [
    "docs[0]"
   ]
  },
  {
   "cell_type": "code",
   "execution_count": 33,
   "metadata": {},
   "outputs": [],
   "source": [
    "from langchain_huggingface import HuggingFaceEmbeddings\n",
    "embedding = HuggingFaceEmbeddings()"
   ]
  },
  {
   "cell_type": "code",
   "execution_count": 34,
   "metadata": {},
   "outputs": [],
   "source": [
    "embed = embedding.embed_query(\"Hi my name is Harrison\")"
   ]
  },
  {
   "cell_type": "code",
   "execution_count": 35,
   "metadata": {},
   "outputs": [
    {
     "name": "stdout",
     "output_type": "stream",
     "text": [
      "768\n"
     ]
    }
   ],
   "source": [
    "print(len(embed))"
   ]
  },
  {
   "cell_type": "code",
   "execution_count": 36,
   "metadata": {},
   "outputs": [
    {
     "name": "stdout",
     "output_type": "stream",
     "text": [
      "[0.03336680307984352, -0.004217864945530891, 0.005565308034420013, -0.0070279971696436405, 0.010666961781680584]\n"
     ]
    }
   ],
   "source": [
    "print(embed[:5])"
   ]
  },
  {
   "cell_type": "code",
   "execution_count": 37,
   "metadata": {},
   "outputs": [],
   "source": [
    "db = DocArrayInMemorySearch.from_documents(\n",
    "    docs, \n",
    "    embedding\n",
    ")"
   ]
  },
  {
   "cell_type": "code",
   "execution_count": 38,
   "metadata": {},
   "outputs": [],
   "source": [
    "query = \"Please suggest a shirt with sunblocking\""
   ]
  },
  {
   "cell_type": "code",
   "execution_count": 39,
   "metadata": {},
   "outputs": [],
   "source": [
    "docs = db.similarity_search(query)"
   ]
  },
  {
   "cell_type": "code",
   "execution_count": 40,
   "metadata": {},
   "outputs": [
    {
     "data": {
      "text/plain": [
       "4"
      ]
     },
     "execution_count": 40,
     "metadata": {},
     "output_type": "execute_result"
    }
   ],
   "source": [
    "len(docs)"
   ]
  },
  {
   "cell_type": "code",
   "execution_count": 41,
   "metadata": {},
   "outputs": [
    {
     "data": {
      "text/plain": [
       "Document(metadata={'source': 'OutdoorClothingCatalog_1000.csv', 'row': 255}, page_content=': 255\\nname: Sun Shield Shirt by\\ndescription: \"Block the sun, not the fun – our high-performance sun shirt is guaranteed to protect from harmful UV rays. \\n\\nSize & Fit: Slightly Fitted: Softly shapes the body. Falls at hip.\\n\\nFabric & Care: 78% nylon, 22% Lycra Xtra Life fiber. UPF 50+ rated – the highest rated sun protection possible. Handwash, line dry.\\n\\nAdditional Features: Wicks moisture for quick-drying comfort. Fits comfortably over your favorite swimsuit. Abrasion resistant for season after season of wear. Imported.\\n\\nSun Protection That Won\\'t Wear Off\\nOur high-performance fabric provides SPF 50+ sun protection, blocking 98% of the sun\\'s harmful rays. This fabric is recommended by The Skin Cancer Foundation as an effective UV protectant.')"
      ]
     },
     "execution_count": 41,
     "metadata": {},
     "output_type": "execute_result"
    }
   ],
   "source": [
    "docs[0]"
   ]
  },
  {
   "cell_type": "code",
   "execution_count": 42,
   "metadata": {},
   "outputs": [],
   "source": [
    "retriever = db.as_retriever()"
   ]
  },
  {
   "cell_type": "code",
   "execution_count": 44,
   "metadata": {},
   "outputs": [],
   "source": [
    "llm = ChatOpenAI(temperature = 0.0, model=llm_model)"
   ]
  },
  {
   "cell_type": "code",
   "execution_count": 45,
   "metadata": {},
   "outputs": [],
   "source": [
    "qdocs = \"\".join([docs[i].page_content for i in range(len(docs))])"
   ]
  },
  {
   "cell_type": "code",
   "execution_count": 46,
   "metadata": {},
   "outputs": [
    {
     "name": "stdout",
     "output_type": "stream",
     "text": [
      ": 255\n",
      "name: Sun Shield Shirt by\n",
      "description: \"Block the sun, not the fun – our high-performance sun shirt is guaranteed to protect from harmful UV rays. \n",
      "\n",
      "Size & Fit: Slightly Fitted: Softly shapes the body. Falls at hip.\n",
      "\n",
      "Fabric & Care: 78% nylon, 22% Lycra Xtra Life fiber. UPF 50+ rated – the highest rated sun protection possible. Handwash, line dry.\n",
      "\n",
      "Additional Features: Wicks moisture for quick-drying comfort. Fits comfortably over your favorite swimsuit. Abrasion resistant for season after season of wear. Imported.\n",
      "\n",
      "Sun Protection That Won't Wear Off\n",
      "Our high-performance fabric provides SPF 50+ sun protection, blocking 98% of the sun's harmful rays. This fabric is recommended by The Skin Cancer Foundation as an effective UV protectant.: 679\n",
      "name: Women's Tropical Tee, Sleeveless\n",
      "description: Our five-star sleeveless button-up shirt has a fit to flatter and SunSmart™ protection to block the sun’s harmful UV rays. Size & Fit: Slightly Fitted: Softly shapes the body. Falls at hip. Fabric & Care: Shell: 71% nylon, 29% polyester. Cape lining: 100% polyester. Built-in SunSmart™ UPF 50+ rated – the highest rated sun protection possible. Machine wash and dry. Additional Features: Updated design with smoother buttons. Wrinkle resistant. Low-profile pockets and side shaping offer a more flattering fit. Front and back cape venting. Two front pockets, tool tabs and eyewear loop. Imported. Sun Protection That Won't Wear Off: Our high-performance fabric provides SPF 50+ sun protection, blocking 98% of the sun's harmful rays.: 617\n",
      "name: Girls' Beachside Breeze Shirt, Half-Sleeve\n",
      "description: A great choice for sun protection on long days at the beach or as extra coverage for watersports, this girls' swim shirt coordinates easily with all of our swimwear. \n",
      "\n",
      "Fabric & Care: 80% nylon, 20% Lycra Xtra Life. Machine wash, line dry.\n",
      "\n",
      "Additional Features: Rash guard features built-in UPF 50+ – the highest rated sun protection possible. Snag- and fade-resistant fabric holds its shape season after season. Durable seawater-resistant fabric retains its color. Cover-stitched seams are super durable. Imported.\n",
      "\n",
      "Sun Protection That Won't Wear Off: Our high-performance fabric provides SPF 50+ sun protection, blocking 98% of the sun's harmful rays. This fabric is recommended by The Skin Cancer Foundation as an effective UV protectant.: 709\n",
      "name: Sunrise Tee\n",
      "description: Stay cool, comfortable and dry on the hottest days in our women's UV-protective button down shirt. The lightweight, high-performance fabric wicks away moisture and dries quickly.\n",
      "\n",
      "Size & Fit\n",
      "Slightly Fitted: Softly shapes the body. Falls at hip.\n",
      "\n",
      "Why We Love It\n",
      "Our lightest hot-weather shirt lets you beat the heat. Originally designed for fishing, it's also a great choice for travel thanks to its wrinkle-free fabric and built-in sun protection with a rating of UPF 50+.\n",
      "\n",
      "Fabric & Care\n",
      "Lightweight performance synthetic wicks moisture, resists wrinkles and dries fast. Shell: 71% nylon, 29% polyester. Cape lining: 100% polyester. Machine wash and dry.\n",
      "\n",
      "Additional Features\n",
      "Built-in SunSmart™ UPF 50+ rated – the highest rated sun protection possible. The high-performance fabric keeps you cool and comfortable by wicking perspiration away. Smoother buttons, low-profile pockets and side shaping for a flattering fit. Front and back cape venting. Two front pockets, tool tabs and eyewear loop. Wrinkle free. Imported.\n",
      "\n",
      "Sun Protection That Won't Wear Off\n",
      "Our\n"
     ]
    }
   ],
   "source": [
    "print(qdocs)"
   ]
  },
  {
   "cell_type": "code",
   "execution_count": 58,
   "metadata": {},
   "outputs": [],
   "source": [
    "response = llm.call_as_llm(f\"{qdocs} Question: Please list all your \\\n",
    "shirts with sun protection in a table in markdown and summarize each one.\"\n",
    ") "
   ]
  },
  {
   "cell_type": "code",
   "execution_count": 60,
   "metadata": {},
   "outputs": [
    {
     "data": {
      "text/markdown": [
       "Here’s a table summarizing all the shirts with sun protection in Markdown format:\n",
       "\n",
       "```markdown\n",
       "| **Name**                     | **Description**                                                                                                                                                                                                 | **Fabric & Care**                                                                 | **Additional Features**                                                                                                                                                                                                 |\n",
       "|------------------------------|-----------------------------------------------------------------------------------------------------------------------------------------------------------------------------------------------------------------|-----------------------------------------------------------------------------------|-------------------------------------------------------------------------------------------------------------------------------------------------------------------------------------------------------------------------|\n",
       "| **Sun Shield Shirt**         | High-performance sun shirt with UPF 50+ protection, moisture-wicking, and abrasion-resistant fabric.                                                                                                           | 78% nylon, 22% Lycra Xtra Life. Handwash, line dry.                               | Wicks moisture, fits over swimsuits, abrasion-resistant, recommended by The Skin Cancer Foundation.                                                                                                                     |\n",
       "| **Women's Tropical Tee**     | Sleeveless button-up shirt with SunSmart™ UPF 50+ protection, wrinkle-resistant, and flattering fit.                                                                                                           | Shell: 71% nylon, 29% polyester. Cape lining: 100% polyester. Machine wash and dry. | Smoother buttons, low-profile pockets, side shaping, front and back cape venting, two front pockets, tool tabs, eyewear loop.                                                                                          |\n",
       "| **Girls' Beachside Breeze**  | Half-sleeve swim shirt with UPF 50+ protection, snag- and fade-resistant fabric, and durable seawater-resistant material.                                                                                      | 80% nylon, 20% Lycra Xtra Life. Machine wash, line dry.                           | Rash guard, durable fabric, cover-stitched seams, recommended by The Skin Cancer Foundation.                                                                                                                           |\n",
       "| **Sunrise Tee**              | Lightweight UV-protective button-down shirt with moisture-wicking, wrinkle-free fabric, and UPF 50+ protection.                                                                                                | Shell: 71% nylon, 29% polyester. Cape lining: 100% polyester. Machine wash and dry. | Smoother buttons, low-profile pockets, side shaping, front and back cape venting, two front pockets, tool tabs, eyewear loop, wrinkle-free.                                                                             |\n",
       "```\n",
       "\n",
       "### Summary:\n",
       "1. **Sun Shield Shirt**: A high-performance sun shirt with UPF 50+ protection, designed for moisture-wicking and durability. Ideal for outdoor activities and swimwear coverage.\n",
       "2. **Women's Tropical Tee**: A sleeveless button-up shirt with SunSmart™ UPF 50+ protection, wrinkle resistance, and a flattering fit. Perfect for casual or active wear.\n",
       "3. **Girls' Beachside Breeze**: A half-sleeve swim shirt with UPF 50+ protection, durable fabric, and seawater resistance. Great for beach or watersport activities.\n",
       "4. **Sunrise Tee**: A lightweight, UV-protective button-down shirt with moisture-wicking, wrinkle-free fabric, and UPF 50+ protection. Suitable for hot weather and travel."
      ],
      "text/plain": [
       "<IPython.core.display.Markdown object>"
      ]
     },
     "metadata": {},
     "output_type": "display_data"
    }
   ],
   "source": [
    "# display(Markdown(str(response.content)))\n",
    "display(Markdown(response))"
   ]
  },
  {
   "cell_type": "code",
   "execution_count": 61,
   "metadata": {},
   "outputs": [],
   "source": [
    "qa_stuff = RetrievalQA.from_chain_type(\n",
    "    llm=llm, \n",
    "    chain_type=\"stuff\", \n",
    "    retriever=retriever, \n",
    "    verbose=True\n",
    ")"
   ]
  },
  {
   "cell_type": "code",
   "execution_count": 62,
   "metadata": {},
   "outputs": [],
   "source": [
    "query =  \"Please list all your shirts with sun protection in a table \\\n",
    "in markdown and summarize each one.\""
   ]
  },
  {
   "cell_type": "code",
   "execution_count": 65,
   "metadata": {},
   "outputs": [
    {
     "name": "stdout",
     "output_type": "stream",
     "text": [
      "\n",
      "\n",
      "\u001b[1m> Entering new RetrievalQA chain...\u001b[0m\n",
      "\n",
      "\u001b[1m> Finished chain.\u001b[0m\n"
     ]
    }
   ],
   "source": [
    "response = qa_stuff.invoke(query)\n",
    "# response = qa_stuff.run(query)"
   ]
  },
  {
   "cell_type": "code",
   "execution_count": 71,
   "metadata": {},
   "outputs": [
    {
     "data": {
      "text/markdown": [
       "Here’s a table summarizing all the shirts with sun protection:\n",
       "\n",
       "| **Product ID** | **Name**                     | **Summary**                                                                                                                                                                                                 |\n",
       "|----------------|------------------------------|-------------------------------------------------------------------------------------------------------------------------------------------------------------------------------------------------------------|\n",
       "| 679            | Women's Tropical Tee, Sleeveless | Sleeveless button-up shirt with SunSmart™ UPF 50+ protection. Softly shapes the body, wrinkle-resistant, and features front and back cape venting, two front pockets, tool tabs, and an eyewear loop.        |\n",
       "| 709            | Sunrise Tee                  | Lightweight, UV-protective button-down shirt with UPF 50+ protection. Moisture-wicking, wrinkle-free, and features smoother buttons, low-profile pockets, and front and back cape venting.                  |\n",
       "| 255            | Sun Shield Shirt             | High-performance sun shirt with UPF 50+ protection. Moisture-wicking, abrasion-resistant, and fits comfortably over swimsuits. Recommended by The Skin Cancer Foundation for UV protection.                |\n",
       "| 619            | Tropical Breeze Shirt        | Lightweight, breathable long-sleeve men’s shirt with SunSmart™ UPF 50+ protection. Wrinkle-resistant, moisture-wicking, and features front and back cape venting for added comfort.                         |\n",
       "\n",
       "All shirts offer UPF 50+ sun protection, blocking 98% of the sun's harmful UV rays."
      ],
      "text/plain": [
       "<IPython.core.display.Markdown object>"
      ]
     },
     "metadata": {},
     "output_type": "display_data"
    }
   ],
   "source": [
    "display(Markdown(response[\"result\"]))\n",
    "# display(response[\"result\"])"
   ]
  },
  {
   "cell_type": "code",
   "execution_count": 72,
   "metadata": {},
   "outputs": [],
   "source": [
    "response = index.query(query, llm=llm)"
   ]
  },
  {
   "cell_type": "code",
   "execution_count": 73,
   "metadata": {},
   "outputs": [
    {
     "data": {
      "text/markdown": [
       "Here is a table summarizing all the shirts with sun protection:\n",
       "\n",
       "| **ID** | **Name**                          | **Summary**                                                                                                                                                                                                 |\n",
       "|--------|-----------------------------------|-------------------------------------------------------------------------------------------------------------------------------------------------------------------------------------------------------------|\n",
       "| 679    | Women's Tropical Tee, Sleeveless  | Sleeveless button-up shirt with SunSmart™ UPF 50+ protection. Made of 71% nylon, 29% polyester. Features wrinkle resistance, front and back cape venting, two front pockets, and machine washable.           |\n",
       "| 255    | Sun Shield Shirt                  | High-performance sun shirt with UPF 50+ protection. Made of 78% nylon, 22% Lycra Xtra Life fiber. Moisture-wicking, abrasion-resistant, and handwashable. Recommended by The Skin Cancer Foundation.         |\n",
       "| 374    | Men's Plaid Tropic Shirt, Short-Sleeve | Short-sleeve shirt with UPF 50+ protection. Made of 52% polyester, 48% nylon. Features wrinkle-free fabric, front and back cape venting, two front bellows pockets, and machine washable.                    |\n",
       "| 619    | Tropical Breeze Shirt             | Long-sleeve men’s shirt with SunSmart™ UPF 50+ protection. Made of 71% nylon, 29% polyester. Features wrinkle resistance, moisture-wicking fabric, polyester-mesh inserts, and machine washable.             |\n",
       "\n",
       "All shirts offer UPF 50+ protection, blocking 98% of the sun's harmful UV rays."
      ],
      "text/plain": [
       "<IPython.core.display.Markdown object>"
      ]
     },
     "metadata": {},
     "output_type": "display_data"
    }
   ],
   "source": [
    "display(Markdown(response))"
   ]
  },
  {
   "cell_type": "code",
   "execution_count": null,
   "metadata": {},
   "outputs": [],
   "source": []
  }
 ],
 "metadata": {
  "kernelspec": {
   "display_name": "venv",
   "language": "python",
   "name": "python3"
  },
  "language_info": {
   "codemirror_mode": {
    "name": "ipython",
    "version": 3
   },
   "file_extension": ".py",
   "mimetype": "text/x-python",
   "name": "python",
   "nbconvert_exporter": "python",
   "pygments_lexer": "ipython3",
   "version": "3.13.2"
  }
 },
 "nbformat": 4,
 "nbformat_minor": 2
}
